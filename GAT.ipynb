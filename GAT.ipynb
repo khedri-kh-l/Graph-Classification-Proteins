{
 "cells": [
  {
   "cell_type": "code",
   "execution_count": 1,
   "id": "bea7a8b6",
   "metadata": {},
   "outputs": [],
   "source": [
    "import os\n",
    "import networkx as nx\n",
    "import matplotlib.pyplot as plt\n",
    "\n",
    "os.environ[\"DGLBACKEND\"] = \"pytorch\"\n",
    "import dgl\n",
    "import dgl.data\n",
    "import torch\n",
    "import torch.nn as nn\n",
    "import torch.nn.functional as F\n"
   ]
  },
  {
   "cell_type": "code",
   "execution_count": 2,
   "id": "b263b374",
   "metadata": {},
   "outputs": [],
   "source": [
    "\n",
    "import dgl.data\n",
    "\n",
    "dataset = dgl.data.GINDataset(\"PROTEINS\", self_loop=True)"
   ]
  },
  {
   "cell_type": "markdown",
   "id": "3c5d58eb",
   "metadata": {},
   "source": [
    "### 2. Split the dataset into training and testing sets using SubsetRandomSampler"
   ]
  },
  {
   "cell_type": "code",
   "execution_count": 3,
   "id": "dc22b6d9",
   "metadata": {},
   "outputs": [],
   "source": [
    "from torch.utils.data.sampler import SubsetRandomSampler\n",
    "from dgl.dataloading import GraphDataLoader\n",
    "\n",
    "num_examples = len(dataset)\n",
    "num_train = int(num_examples * 0.8)\n",
    "\n",
    "train_sampler = SubsetRandomSampler(torch.arange(num_train))\n",
    "test_sampler = SubsetRandomSampler(torch.arange(num_train, num_examples))\n",
    "\n",
    "train_dataloader = GraphDataLoader(\n",
    "    dataset, sampler=train_sampler, batch_size=5, drop_last=False\n",
    ")\n",
    "test_dataloader = GraphDataLoader(\n",
    "    dataset, sampler=test_sampler, batch_size=5, drop_last=False\n",
    ")\n"
   ]
  },
  {
   "cell_type": "markdown",
   "id": "5ab8faeb",
   "metadata": {},
   "source": [
    "### 3. Define the Model\n",
    "\n",
    "You need to define a model with SuperGATConv layers. Since SuperGATConv is not a built-in module in DGL, you need to define it yourself. You can refer to the GATConv documentation for guidance on how to implement a GAT layer. "
   ]
  },
  {
   "cell_type": "code",
   "execution_count": 4,
   "id": "7f0f28d5",
   "metadata": {},
   "outputs": [],
   "source": [
    "import torch.nn as nn\n",
    "import torch.nn.functional as F\n",
    "from dgl.nn import GATConv\n",
    "\n",
    "class SuperGATConv(nn.Module):\n",
    "    def __init__(self, in_dim, out_dim):\n",
    "        super(SuperGATConv, self).__init__()\n",
    "        self.gatconv1 = GATConv(in_dim, out_dim, num_heads=2)\n",
    "        self.gatconv2 = GATConv(2 * out_dim, out_dim, num_heads=2)\n",
    "\n",
    "    def forward(self, g, h):\n",
    "        h = self.gatconv1(g, h).flatten(1)\n",
    "        h = F.elu(h)\n",
    "        h = self.gatconv2(g, h).mean(1)\n",
    "        return h\n",
    "\n",
    "class SuperGAT(nn.Module):\n",
    "    def __init__(self, in_feats, h_feats, num_classes):\n",
    "        super(SuperGAT, self).__init__()\n",
    "        self.conv1 = SuperGATConv(in_feats, h_feats)\n",
    "        self.conv2 = SuperGATConv(h_feats, num_classes)\n",
    "\n",
    "    def forward(self, g, in_feat):\n",
    "        h = self.conv1(g, in_feat)\n",
    "        h = F.elu(h)\n",
    "        h = self.conv2(g, h)\n",
    "        g.ndata['h'] = h\n",
    "        return dgl.mean_nodes(g, 'h')\n"
   ]
  },
  {
   "cell_type": "markdown",
   "id": "468f3b75",
   "metadata": {},
   "source": [
    "### 4. Train the Model\n",
    "\n",
    "Train the model:"
   ]
  },
  {
   "cell_type": "code",
   "execution_count": 6,
   "id": "6ce01dc6",
   "metadata": {},
   "outputs": [
    {
     "name": "stdout",
     "output_type": "stream",
     "text": [
      "Epoch 0, loss 0.0016\n",
      "Epoch 10, loss 0.0033\n",
      "Epoch 20, loss 0.0038\n",
      "Epoch 30, loss 0.0039\n",
      "Epoch 40, loss 0.0017\n"
     ]
    }
   ],
   "source": [
    "\n",
    "\n",
    "# Use the node feature dimensionality as the input feature size\n",
    "in_feats = dataset.dim_nfeats\n",
    "# Define the hidden layer size and the number of classes\n",
    "h_feats = 16\n",
    "num_classes = dataset.gclasses\n",
    "\n",
    "# Instantiate the model\n",
    "model_GAT= SuperGAT(in_feats, h_feats, num_classes)\n",
    "# Define the loss function\n",
    "loss_func = nn.CrossEntropyLoss()\n",
    "# Define the optimizer\n",
    "optimizer = torch.optim.Adam(model_GAT.parameters(), lr=0.001)\n",
    "\n",
    "\n",
    "epoch_losses_GAT=[]\n",
    "# Training loop\n",
    "for epoch in range(50):\n",
    "    epoch_loss = 0\n",
    "    for iter, (batched_graph, labels) in enumerate(train_dataloader):\n",
    "    #for batched_graph, labels in train_dataloader:\n",
    "        feats = batched_graph.ndata['attr']\n",
    "        logits = model_GAT(batched_graph, feats)\n",
    "        loss = loss_func(logits, labels)\n",
    "        optimizer.zero_grad()\n",
    "        loss.backward()\n",
    "        optimizer.step()\n",
    "    epoch_loss += loss.detach().item()\n",
    "    epoch_loss /= (iter + 1)\n",
    "    if epoch%10==0 :\n",
    "        print('Epoch {}, loss {:.4f}'.format(epoch, epoch_loss))\n",
    "    epoch_losses_GAT.append(epoch_loss)   \n"
   ]
  },
  {
   "cell_type": "markdown",
   "id": "88109b5b",
   "metadata": {},
   "source": [
    "### 5. Evalution"
   ]
  },
  {
   "cell_type": "code",
   "execution_count": 7,
   "id": "d9c55d4c",
   "metadata": {},
   "outputs": [],
   "source": [
    "def accuracy(data, model):\n",
    "    num_correct = 0\n",
    "    num_tests = 0\n",
    "    for batched_graph, labels in data:\n",
    "        pred = model(batched_graph, batched_graph.ndata[\"attr\"].float())\n",
    "        num_correct += (pred.argmax(1) == labels).sum().item()\n",
    "        num_tests += len(labels)\n",
    "        return num_correct / num_tests"
   ]
  },
  {
   "cell_type": "code",
   "execution_count": 8,
   "id": "841f663b",
   "metadata": {},
   "outputs": [
    {
     "name": "stdout",
     "output_type": "stream",
     "text": [
      "Train accuracy: 0.4\n",
      "Test accuracy: 0.0\n"
     ]
    }
   ],
   "source": [
    "print(\"Train accuracy:\", accuracy(train_dataloader, model_GAT))\n",
    "print(\"Test accuracy:\", accuracy(test_dataloader, model_GAT))"
   ]
  },
  {
   "cell_type": "code",
   "execution_count": 20,
   "id": "5d718fa7",
   "metadata": {},
   "outputs": [
    {
     "data": {
      "image/png": "[encoded data removed]",
      "text/plain": [
       "<Figure size 432x288 with 1 Axes>"
      ]
     },
     "metadata": {
      "needs_background": "light"
     },
     "output_type": "display_data"
    }
   ],
   "source": [
    "plt.title('cross entropy averaged over minibatches')\n",
    "plt.plot(epoch_losses_GAT)\n",
    "plt.show()"
   ]
  },
  {
   "cell_type": "code",
   "execution_count": null,
   "id": "a3238bc9",
   "metadata": {},
   "outputs": [],
   "source": []
  }
 ],
 "metadata": {
  "kernelspec": {
   "display_name": "Python 3 (ipykernel)",
   "language": "python",
   "name": "python3"
  },
  "language_info": {
   "codemirror_mode": {
    "name": "ipython",
    "version": 3
   },
   "file_extension": ".py",
   "mimetype": "text/x-python",
   "name": "python",
   "nbconvert_exporter": "python",
   "pygments_lexer": "ipython3",
   "version": "3.10.6"
  }
 },
 "nbformat": 4,
 "nbformat_minor": 5
}
