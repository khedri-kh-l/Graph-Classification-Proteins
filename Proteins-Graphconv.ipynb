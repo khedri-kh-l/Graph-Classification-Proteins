{
 "cells": [
  {
   "cell_type": "markdown",
   "metadata": {},
   "source": [
    "## Loading labrary"
   ]
  },
  {
   "cell_type": "code",
   "execution_count": 1,
   "metadata": {},
   "outputs": [],
   "source": [
    "import time\n",
    "import matplotlib.pyplot as plt\n",
    "import copy\n",
    "import collections\n",
    "import numpy as np\n",
    "import pandas as pd\n",
    "from datetime import datetime\n",
    "import seaborn as sns\n",
    "import scipy.sparse as sp\n",
    "import time\n",
    "import zipfile\n",
    "import os\n",
    "import itertools\n",
    "import os.path as osp\n",
    "from typing import Union, Tuple, Optional\n",
    "\n",
    "import torch\n",
    "import torch.nn as nn\n",
    "from torch.nn import Parameter\n",
    "import torch.nn.functional as F\n",
    "import torch.optim as optim\n",
    "import torch.nn.utils.prune as prune\n",
    "from torch import Tensor\n",
    "\n",
    "os.environ[\"DGLBACKEND\"] = \"pytorch\"\n",
    "import dgl\n",
    "import dgl.data\n",
    "import torch\n",
    "import torch.nn as nn\n",
    "import torch.nn.functional as F\n",
    "\n",
    "#from utils import *"
   ]
  },
  {
   "cell_type": "markdown",
   "metadata": {},
   "source": [
    "### Loading dataset\n",
    "\n",
    "The dataset is a set of graphs, each with node features and a single\n",
    "label. One can see the node feature dimensionality and the number of\n",
    "possible graph categories of ``GINDataset`` objects in ``dim_nfeats``\n",
    "and ``gclasses`` attributes.\n",
    "\n",
    "\n"
   ]
  },
  {
   "cell_type": "code",
   "execution_count": 2,
   "metadata": {},
   "outputs": [],
   "source": [
    "# Generate a synthetic dataset with 10000 graphs, ranging from 10 to 500 nodes.\n",
    "dataset = dgl.data.GINDataset(\"PROTEINS\", self_loop=True)"
   ]
  },
  {
   "cell_type": "code",
   "execution_count": null,
   "metadata": {},
   "outputs": [],
   "source": []
  },
  {
   "cell_type": "markdown",
   "metadata": {},
   "source": [
    "Defining Data Loader\n",
    "--------------------\n",
    "\n",
    "A graph classification dataset usually contains two types of elements: a\n",
    "set of graphs, and their graph-level labels. Similar to an image\n",
    "classification task, when the dataset is large enough, we need to train\n",
    "with mini-batches. When you train a model for image classification or\n",
    "language modeling, you will use a ``DataLoader`` to iterate over the\n",
    "dataset. In DGL, you can use the ``GraphDataLoader``.\n",
    "\n",
    "You can also use various dataset samplers provided in\n",
    "`torch.utils.data.sampler <https://pytorch.org/docs/stable/data.html#data-loading-order-and-sampler>`__.\n",
    "For example, this tutorial creates a training ``GraphDataLoader`` and\n",
    "test ``GraphDataLoader``, using ``SubsetRandomSampler`` to tell PyTorch\n",
    "to sample from only a subset of the dataset.\n",
    "\n",
    "\n"
   ]
  },
  {
   "cell_type": "code",
   "execution_count": 3,
   "metadata": {},
   "outputs": [],
   "source": [
    "from dgl.dataloading import GraphDataLoader"
   ]
  },
  {
   "cell_type": "code",
   "execution_count": 4,
   "metadata": {},
   "outputs": [],
   "source": [
    "from torch.utils.data.sampler import SubsetRandomSampler\n",
    "\n",
    "num_examples = len(dataset)\n",
    "num_train = int(num_examples * 0.8)\n",
    "\n",
    "train_sampler = SubsetRandomSampler(torch.arange(num_train))\n",
    "test_sampler = SubsetRandomSampler(torch.arange(num_train, num_examples))\n",
    "\n",
    "train_dataloader = GraphDataLoader(\n",
    "    dataset, sampler=train_sampler, batch_size=5, drop_last=False\n",
    ")\n",
    "test_dataloader = GraphDataLoader(\n",
    "    dataset, sampler=test_sampler, batch_size=5, drop_last=False\n",
    ")"
   ]
  },
  {
   "cell_type": "markdown",
   "metadata": {},
   "source": [
    "Define Model\n",
    "------------\n",
    "\n",
    "This tutorial will build a two-layer `Graph Convolutional Network\n",
    "(GCN) <http://tkipf.github.io/graph-convolutional-networks/>`__. Each of\n",
    "its layer computes new node representations by aggregating neighbor\n",
    "information. If you have gone through the\n",
    ":doc:`introduction <1_introduction>`, you will notice two\n",
    "differences:\n",
    "\n",
    "-  Since the task is to predict a single category for the *entire graph*\n",
    "   instead of for every node, you will need to aggregate the\n",
    "   representations of all the nodes and potentially the edges to form a\n",
    "   graph-level representation. Such process is more commonly referred as\n",
    "   a *readout*. A simple choice is to average the node features of a\n",
    "   graph with ``dgl.mean_nodes()``.\n",
    "\n",
    "-  The input graph to the model will be a batched graph yielded by the\n",
    "   ``GraphDataLoader``. The readout functions provided by DGL can handle\n",
    "   batched graphs so that they will return one representation for each\n",
    "   minibatch element.\n",
    "\n",
    "\n"
   ]
  },
  {
   "cell_type": "code",
   "execution_count": 5,
   "metadata": {},
   "outputs": [],
   "source": [
    "from dgl.nn import GraphConv\n",
    "\n",
    "\n",
    "class GCN(nn.Module):\n",
    "    def __init__(self, in_feats, h_feats, num_classes):\n",
    "        super(GCN, self).__init__()\n",
    "        self.conv1 = GraphConv(in_feats, h_feats)\n",
    "        self.conv2 = GraphConv(h_feats, h_feats)\n",
    "        self.conv3 = GraphConv(h_feats, num_classes)\n",
    "\n",
    "    def forward(self, g, in_feat):\n",
    "        h = self.conv1(g, in_feat)\n",
    "        h = F.relu(h)\n",
    "        h = self.conv2(g, h)\n",
    "        h = F.relu(h)\n",
    "        h = self.conv3(g, h)\n",
    "        g.ndata[\"h\"] = h\n",
    "        return dgl.mean_nodes(g, \"h\")\n",
    "    \n",
    "    "
   ]
  },
  {
   "cell_type": "markdown",
   "metadata": {},
   "source": [
    "Training \n"
   ]
  },
  {
   "cell_type": "code",
   "execution_count": 6,
   "metadata": {},
   "outputs": [
    {
     "name": "stdout",
     "output_type": "stream",
     "text": [
      "Epoch 0, loss 0.0047\n",
      "Epoch 10, loss 0.0040\n",
      "Epoch 20, loss 0.0036\n",
      "Epoch 30, loss 0.0014\n",
      "Epoch 40, loss 0.0025\n",
      "Epoch 50, loss 0.0031\n",
      "Epoch 60, loss 0.0043\n",
      "Epoch 70, loss 0.0022\n",
      "Epoch 80, loss 0.0032\n",
      "Epoch 90, loss 0.0032\n"
     ]
    }
   ],
   "source": [
    "# Create the model with given dimensions\n",
    "model = GCN(dataset.dim_nfeats, 16, dataset.gclasses)\n",
    "optimizer = torch.optim.Adam(model.parameters(), lr=0.001)\n",
    "\n",
    "\n",
    "\n",
    "epoch_losses = []\n",
    "for epoch in range(100):\n",
    "    epoch_loss = 0\n",
    "    for iter, (batched_graph, labels) in enumerate(train_dataloader):\n",
    "    #for batched_graph, labels in train_dataloader:\n",
    "        pred = model(batched_graph, batched_graph.ndata[\"attr\"].float())\n",
    "        loss = F.cross_entropy(pred, labels)\n",
    "        optimizer.zero_grad()\n",
    "        loss.backward()\n",
    "        optimizer.step()\n",
    "    epoch_loss += loss.detach().item()\n",
    "    epoch_loss /= (iter + 1)\n",
    "    \n",
    "    if epoch%10==0 :\n",
    "      \n",
    "        print('Epoch {}, loss {:.4f}'.format(epoch, epoch_loss))\n",
    "    epoch_losses.append(epoch_loss)\n",
    "\n"
   ]
  },
  {
   "cell_type": "code",
   "execution_count": 17,
   "metadata": {},
   "outputs": [
    {
     "name": "stdout",
     "output_type": "stream",
     "text": [
      "Train accuracy: 0.8\n",
      "Test accuracy: 0.6\n"
     ]
    }
   ],
   "source": [
    "def accuracy(data):\n",
    "    num_correct = 0\n",
    "    num_tests = 0\n",
    "    for batched_graph, labels in data:\n",
    "        pred = model(batched_graph, batched_graph.ndata[\"attr\"].float())\n",
    "        num_correct += (pred.argmax(1) == labels).sum().item()\n",
    "        num_tests += len(labels)\n",
    "        return num_correct / num_tests\n",
    "\n",
    "print(\"Train accuracy:\", accuracy(train_dataloader))\n",
    "print(\"Test accuracy:\", accuracy(test_dataloader))"
   ]
  },
  {
   "cell_type": "code",
   "execution_count": 7,
   "metadata": {},
   "outputs": [
    {
     "data": {
      "image/png": "[encoded data removed]",
      "text/plain": [
       "<Figure size 432x288 with 1 Axes>"
      ]
     },
     "metadata": {
      "needs_background": "light"
     },
     "output_type": "display_data"
    }
   ],
   "source": [
    "plt.title('cross entropy averaged over minibatches')\n",
    "plt.plot(epoch_losses)\n",
    "plt.show()"
   ]
  },
  {
   "cell_type": "code",
   "execution_count": null,
   "metadata": {},
   "outputs": [],
   "source": []
  }
 ],
 "metadata": {
  "kernelspec": {
   "display_name": "Python 3 (ipykernel)",
   "language": "python",
   "name": "python3"
  },
  "language_info": {
   "codemirror_mode": {
    "name": "ipython",
    "version": 3
   },
   "file_extension": ".py",
   "mimetype": "text/x-python",
   "name": "python",
   "nbconvert_exporter": "python",
   "pygments_lexer": "ipython3",
   "version": "3.10.6"
  }
 },
 "nbformat": 4,
 "nbformat_minor": 1
}
